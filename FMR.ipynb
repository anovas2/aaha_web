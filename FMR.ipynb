{
 "cells": [
  {
   "cell_type": "markdown",
   "metadata": {
    "slideshow": {
     "slide_type": "slide"
    }
   },
   "source": [
    "# Cleaning and Preprocessing Data for Machine Learning"
   ]
  },
  {
   "cell_type": "code",
   "execution_count": 8,
   "metadata": {
    "slideshow": {
     "slide_type": "slide"
    },
    "pycharm": {
     "is_executing": false
    }
   },
   "outputs": [],
   "source": [
    "import warnings\n",
    "warnings.simplefilter('ignore')\n",
    "from sklearn.ensemble import RandomForestRegressor\n",
    "\n",
    "# %matplotlib inline\n",
    "# import matplotlib.pyplot as plt\n",
    "import numpy as np\n",
    "import pandas as pd"
   ]
  },
  {
   "cell_type": "code",
   "execution_count": 9,
   "metadata": {
    "slideshow": {
     "slide_type": "subslide"
    },
    "pycharm": {
     "is_executing": false
    }
   },
   "outputs": [
    {
     "data": {
      "text/plain": "   NHPD Property ID                       Property Name   Property Address  \\\n0           1037886  SWAINSBORO PRESBYTERIAN APARTMENTS    310 Mary Ann St   \n1           1037884              TATTNAL EVANS HSNG INC       312 Henry St   \n2           1015106        PARADISE MOULTRIE APARTMENTS     502 27th St SE   \n3           1038022  HOUSING AUTH OF THE CITY OF DAWSON    545 Lemon St NE   \n4           1002320                     PINELAND SQUARE  1001 Pineland Ave   \n\n         City State         Zip CBSACode                      CBSA Type  \\\n0  Swainsboro    GA  30401-3050      NaN                            NaN   \n1  Glennville    GA  30427-2456      NaN                            NaN   \n2    Moultrie    GA  31788-6271    34220  Micropolitan Statistical Area   \n3      Dawson    GA  39842-1069    10500  Metropolitan Statistical Area   \n4  Hinesville    GA  31313-5162    25980  Metropolitan Statistical Area   \n\n     County  County Code  ...  State_1_ConstructionType State_2_ID  \\\n0   Emanuel      13107.0  ...                       NaN        NaN   \n1  Tattnall      13267.0  ...                       NaN        NaN   \n2  Colquitt      13071.0  ...                       NaN        NaN   \n3   Terrell      13273.0  ...                       NaN        NaN   \n4   Liberty      13179.0  ...                       NaN        NaN   \n\n   State_2_Status  State_2_ProgramName State_2_StartDate  State_2_EndDate  \\\n0             NaN                  NaN               NaN              NaN   \n1             NaN                  NaN               NaN              NaN   \n2             NaN                  NaN               NaN              NaN   \n3             NaN                  NaN               NaN              NaN   \n4             NaN                  NaN               NaN              NaN   \n\n   State_2_AssistedUnits  State_2_InacStatusDesc  State_2_ConstructionType  \\\n0                    NaN                     NaN                       NaN   \n1                    NaN                     NaN                       NaN   \n2                    NaN                     NaN                       NaN   \n3                    NaN                     NaN                       NaN   \n4                    NaN                     NaN                       NaN   \n\n  Old NHPD Property ID  \n0                241.0  \n1                240.0  \n2                  NaN  \n3              20256.0  \n4                  NaN  \n\n[5 rows x 234 columns]",
      "text/html": "<div>\n<style scoped>\n    .dataframe tbody tr th:only-of-type {\n        vertical-align: middle;\n    }\n\n    .dataframe tbody tr th {\n        vertical-align: top;\n    }\n\n    .dataframe thead th {\n        text-align: right;\n    }\n</style>\n<table border=\"1\" class=\"dataframe\">\n  <thead>\n    <tr style=\"text-align: right;\">\n      <th></th>\n      <th>NHPD Property ID</th>\n      <th>Property Name</th>\n      <th>Property Address</th>\n      <th>City</th>\n      <th>State</th>\n      <th>Zip</th>\n      <th>CBSACode</th>\n      <th>CBSA Type</th>\n      <th>County</th>\n      <th>County Code</th>\n      <th>...</th>\n      <th>State_1_ConstructionType</th>\n      <th>State_2_ID</th>\n      <th>State_2_Status</th>\n      <th>State_2_ProgramName</th>\n      <th>State_2_StartDate</th>\n      <th>State_2_EndDate</th>\n      <th>State_2_AssistedUnits</th>\n      <th>State_2_InacStatusDesc</th>\n      <th>State_2_ConstructionType</th>\n      <th>Old NHPD Property ID</th>\n    </tr>\n  </thead>\n  <tbody>\n    <tr>\n      <th>0</th>\n      <td>1037886</td>\n      <td>SWAINSBORO PRESBYTERIAN APARTMENTS</td>\n      <td>310 Mary Ann St</td>\n      <td>Swainsboro</td>\n      <td>GA</td>\n      <td>30401-3050</td>\n      <td>NaN</td>\n      <td>NaN</td>\n      <td>Emanuel</td>\n      <td>13107.0</td>\n      <td>...</td>\n      <td>NaN</td>\n      <td>NaN</td>\n      <td>NaN</td>\n      <td>NaN</td>\n      <td>NaN</td>\n      <td>NaN</td>\n      <td>NaN</td>\n      <td>NaN</td>\n      <td>NaN</td>\n      <td>241.0</td>\n    </tr>\n    <tr>\n      <th>1</th>\n      <td>1037884</td>\n      <td>TATTNAL EVANS HSNG INC</td>\n      <td>312 Henry St</td>\n      <td>Glennville</td>\n      <td>GA</td>\n      <td>30427-2456</td>\n      <td>NaN</td>\n      <td>NaN</td>\n      <td>Tattnall</td>\n      <td>13267.0</td>\n      <td>...</td>\n      <td>NaN</td>\n      <td>NaN</td>\n      <td>NaN</td>\n      <td>NaN</td>\n      <td>NaN</td>\n      <td>NaN</td>\n      <td>NaN</td>\n      <td>NaN</td>\n      <td>NaN</td>\n      <td>240.0</td>\n    </tr>\n    <tr>\n      <th>2</th>\n      <td>1015106</td>\n      <td>PARADISE MOULTRIE APARTMENTS</td>\n      <td>502 27th St SE</td>\n      <td>Moultrie</td>\n      <td>GA</td>\n      <td>31788-6271</td>\n      <td>34220</td>\n      <td>Micropolitan Statistical Area</td>\n      <td>Colquitt</td>\n      <td>13071.0</td>\n      <td>...</td>\n      <td>NaN</td>\n      <td>NaN</td>\n      <td>NaN</td>\n      <td>NaN</td>\n      <td>NaN</td>\n      <td>NaN</td>\n      <td>NaN</td>\n      <td>NaN</td>\n      <td>NaN</td>\n      <td>NaN</td>\n    </tr>\n    <tr>\n      <th>3</th>\n      <td>1038022</td>\n      <td>HOUSING AUTH OF THE CITY OF DAWSON</td>\n      <td>545 Lemon St NE</td>\n      <td>Dawson</td>\n      <td>GA</td>\n      <td>39842-1069</td>\n      <td>10500</td>\n      <td>Metropolitan Statistical Area</td>\n      <td>Terrell</td>\n      <td>13273.0</td>\n      <td>...</td>\n      <td>NaN</td>\n      <td>NaN</td>\n      <td>NaN</td>\n      <td>NaN</td>\n      <td>NaN</td>\n      <td>NaN</td>\n      <td>NaN</td>\n      <td>NaN</td>\n      <td>NaN</td>\n      <td>20256.0</td>\n    </tr>\n    <tr>\n      <th>4</th>\n      <td>1002320</td>\n      <td>PINELAND SQUARE</td>\n      <td>1001 Pineland Ave</td>\n      <td>Hinesville</td>\n      <td>GA</td>\n      <td>31313-5162</td>\n      <td>25980</td>\n      <td>Metropolitan Statistical Area</td>\n      <td>Liberty</td>\n      <td>13179.0</td>\n      <td>...</td>\n      <td>NaN</td>\n      <td>NaN</td>\n      <td>NaN</td>\n      <td>NaN</td>\n      <td>NaN</td>\n      <td>NaN</td>\n      <td>NaN</td>\n      <td>NaN</td>\n      <td>NaN</td>\n      <td>NaN</td>\n    </tr>\n  </tbody>\n</table>\n<p>5 rows × 234 columns</p>\n</div>"
     },
     "metadata": {},
     "output_type": "execute_result",
     "execution_count": 9
    }
   ],
   "source": [
    "# Read the csv file into a pandas DataFrame\n",
    "\n",
    "data = pd.read_excel('Active and Inconclusive Properties GA.xlsx')\n",
    "data.head()"
   ]
  },
  {
   "cell_type": "code",
   "execution_count": 10,
   "metadata": {
    "scrolled": true,
    "pycharm": {
     "is_executing": false
    }
   },
   "outputs": [],
   "source": [
    "\n",
    "data.dropna(axis=1, how='all',inplace=True)\n"
   ]
  },
  {
   "cell_type": "code",
   "execution_count": 11,
   "metadata": {
    "pycharm": {
     "is_executing": false
    }
   },
   "outputs": [
    {
     "data": {
      "text/plain": "   NHPD Property ID                       Property Name   Property Address  \\\n0           1037886  SWAINSBORO PRESBYTERIAN APARTMENTS    310 Mary Ann St   \n1           1037884              TATTNAL EVANS HSNG INC       312 Henry St   \n2           1015106        PARADISE MOULTRIE APARTMENTS     502 27th St SE   \n3           1038022  HOUSING AUTH OF THE CITY OF DAWSON    545 Lemon St NE   \n4           1002320                     PINELAND SQUARE  1001 Pineland Ave   \n\n         City State         Zip CBSACode                      CBSA Type  \\\n0  Swainsboro    GA  30401-3050      NaN                            NaN   \n1  Glennville    GA  30427-2456      NaN                            NaN   \n2    Moultrie    GA  31788-6271    34220  Micropolitan Statistical Area   \n3      Dawson    GA  39842-1069    10500  Metropolitan Statistical Area   \n4  Hinesville    GA  31313-5162    25980  Metropolitan Statistical Area   \n\n     County  County Code  ...  PH_2_ID PH_2_Status  PH_2_ProgramName  \\\n0   Emanuel      13107.0  ...      NaN         NaN               NaN   \n1  Tattnall      13267.0  ...      NaN         NaN               NaN   \n2  Colquitt      13071.0  ...      NaN         NaN               NaN   \n3   Terrell      13273.0  ...      NaN         NaN               NaN   \n4   Liberty      13179.0  ...      NaN         NaN               NaN   \n\n   PH_2_StartDate PH_2_AssistedUnits  PH_2_PhaCode  NumberActiveState  \\\n0             NaT                NaN           NaN                  0   \n1             NaT                NaN           NaN                  0   \n2             NaT                NaN           NaN                  0   \n3             NaT                NaN           NaN                  0   \n4             NaT                NaN           NaN                  0   \n\n   NumberInconclusiveState  NumberInactiveState Old NHPD Property ID  \n0                        0                    0                241.0  \n1                        0                    0                240.0  \n2                        0                    0                  NaN  \n3                        0                    0              20256.0  \n4                        0                    0                  NaN  \n\n[5 rows x 190 columns]",
      "text/html": "<div>\n<style scoped>\n    .dataframe tbody tr th:only-of-type {\n        vertical-align: middle;\n    }\n\n    .dataframe tbody tr th {\n        vertical-align: top;\n    }\n\n    .dataframe thead th {\n        text-align: right;\n    }\n</style>\n<table border=\"1\" class=\"dataframe\">\n  <thead>\n    <tr style=\"text-align: right;\">\n      <th></th>\n      <th>NHPD Property ID</th>\n      <th>Property Name</th>\n      <th>Property Address</th>\n      <th>City</th>\n      <th>State</th>\n      <th>Zip</th>\n      <th>CBSACode</th>\n      <th>CBSA Type</th>\n      <th>County</th>\n      <th>County Code</th>\n      <th>...</th>\n      <th>PH_2_ID</th>\n      <th>PH_2_Status</th>\n      <th>PH_2_ProgramName</th>\n      <th>PH_2_StartDate</th>\n      <th>PH_2_AssistedUnits</th>\n      <th>PH_2_PhaCode</th>\n      <th>NumberActiveState</th>\n      <th>NumberInconclusiveState</th>\n      <th>NumberInactiveState</th>\n      <th>Old NHPD Property ID</th>\n    </tr>\n  </thead>\n  <tbody>\n    <tr>\n      <th>0</th>\n      <td>1037886</td>\n      <td>SWAINSBORO PRESBYTERIAN APARTMENTS</td>\n      <td>310 Mary Ann St</td>\n      <td>Swainsboro</td>\n      <td>GA</td>\n      <td>30401-3050</td>\n      <td>NaN</td>\n      <td>NaN</td>\n      <td>Emanuel</td>\n      <td>13107.0</td>\n      <td>...</td>\n      <td>NaN</td>\n      <td>NaN</td>\n      <td>NaN</td>\n      <td>NaT</td>\n      <td>NaN</td>\n      <td>NaN</td>\n      <td>0</td>\n      <td>0</td>\n      <td>0</td>\n      <td>241.0</td>\n    </tr>\n    <tr>\n      <th>1</th>\n      <td>1037884</td>\n      <td>TATTNAL EVANS HSNG INC</td>\n      <td>312 Henry St</td>\n      <td>Glennville</td>\n      <td>GA</td>\n      <td>30427-2456</td>\n      <td>NaN</td>\n      <td>NaN</td>\n      <td>Tattnall</td>\n      <td>13267.0</td>\n      <td>...</td>\n      <td>NaN</td>\n      <td>NaN</td>\n      <td>NaN</td>\n      <td>NaT</td>\n      <td>NaN</td>\n      <td>NaN</td>\n      <td>0</td>\n      <td>0</td>\n      <td>0</td>\n      <td>240.0</td>\n    </tr>\n    <tr>\n      <th>2</th>\n      <td>1015106</td>\n      <td>PARADISE MOULTRIE APARTMENTS</td>\n      <td>502 27th St SE</td>\n      <td>Moultrie</td>\n      <td>GA</td>\n      <td>31788-6271</td>\n      <td>34220</td>\n      <td>Micropolitan Statistical Area</td>\n      <td>Colquitt</td>\n      <td>13071.0</td>\n      <td>...</td>\n      <td>NaN</td>\n      <td>NaN</td>\n      <td>NaN</td>\n      <td>NaT</td>\n      <td>NaN</td>\n      <td>NaN</td>\n      <td>0</td>\n      <td>0</td>\n      <td>0</td>\n      <td>NaN</td>\n    </tr>\n    <tr>\n      <th>3</th>\n      <td>1038022</td>\n      <td>HOUSING AUTH OF THE CITY OF DAWSON</td>\n      <td>545 Lemon St NE</td>\n      <td>Dawson</td>\n      <td>GA</td>\n      <td>39842-1069</td>\n      <td>10500</td>\n      <td>Metropolitan Statistical Area</td>\n      <td>Terrell</td>\n      <td>13273.0</td>\n      <td>...</td>\n      <td>NaN</td>\n      <td>NaN</td>\n      <td>NaN</td>\n      <td>NaT</td>\n      <td>NaN</td>\n      <td>NaN</td>\n      <td>0</td>\n      <td>0</td>\n      <td>0</td>\n      <td>20256.0</td>\n    </tr>\n    <tr>\n      <th>4</th>\n      <td>1002320</td>\n      <td>PINELAND SQUARE</td>\n      <td>1001 Pineland Ave</td>\n      <td>Hinesville</td>\n      <td>GA</td>\n      <td>31313-5162</td>\n      <td>25980</td>\n      <td>Metropolitan Statistical Area</td>\n      <td>Liberty</td>\n      <td>13179.0</td>\n      <td>...</td>\n      <td>NaN</td>\n      <td>NaN</td>\n      <td>NaN</td>\n      <td>NaT</td>\n      <td>NaN</td>\n      <td>NaN</td>\n      <td>0</td>\n      <td>0</td>\n      <td>0</td>\n      <td>NaN</td>\n    </tr>\n  </tbody>\n</table>\n<p>5 rows × 190 columns</p>\n</div>"
     },
     "metadata": {},
     "output_type": "execute_result",
     "execution_count": 11
    }
   ],
   "source": [
    "data.dropna()\n",
    "data.head()"
   ]
  },
  {
   "cell_type": "code",
   "execution_count": 12,
   "metadata": {
    "pycharm": {
     "is_executing": false
    }
   },
   "outputs": [
    {
     "data": {
      "text/plain": "False"
     },
     "metadata": {},
     "output_type": "execute_result",
     "execution_count": 12
    }
   ],
   "source": [
    "np.isnan(data.values.any())"
   ]
  },
  {
   "cell_type": "code",
   "execution_count": 13,
   "metadata": {
    "pycharm": {
     "is_executing": false
    }
   },
   "outputs": [],
   "source": [
    "#Do not forget to check for inf values as well.\n",
    "data[data==np.inf]=np.nan\n",
    "data.fillna(data.mean(), inplace=True)"
   ]
  },
  {
   "cell_type": "code",
   "execution_count": 14,
   "metadata": {
    "slideshow": {
     "slide_type": "subslide"
    },
    "pycharm": {
     "is_executing": false
    }
   },
   "outputs": [
    {
     "name": "stdout",
     "text": [
      "(2161, 2) (2161, 1)\n"
     ],
     "output_type": "stream"
    }
   ],
   "source": [
    "X = data[[\"Latitude\", \"Longitude\"]]\n",
    "y = data[\"FairMarketRent_2BR\"].values.reshape(-1, 1)\n",
    "print(X.shape, y.shape)"
   ]
  },
  {
   "cell_type": "code",
   "execution_count": 15,
   "metadata": {
    "pycharm": {
     "is_executing": false
    }
   },
   "outputs": [
    {
     "data": {
      "text/plain": "    Latitude  Longitude\n0  32.593485 -82.336030\n1  31.937870 -81.923230\n2  31.170928 -83.753068\n3  31.779310 -84.442410\n4  31.817130 -81.619800",
      "text/html": "<div>\n<style scoped>\n    .dataframe tbody tr th:only-of-type {\n        vertical-align: middle;\n    }\n\n    .dataframe tbody tr th {\n        vertical-align: top;\n    }\n\n    .dataframe thead th {\n        text-align: right;\n    }\n</style>\n<table border=\"1\" class=\"dataframe\">\n  <thead>\n    <tr style=\"text-align: right;\">\n      <th></th>\n      <th>Latitude</th>\n      <th>Longitude</th>\n    </tr>\n  </thead>\n  <tbody>\n    <tr>\n      <th>0</th>\n      <td>32.593485</td>\n      <td>-82.336030</td>\n    </tr>\n    <tr>\n      <th>1</th>\n      <td>31.937870</td>\n      <td>-81.923230</td>\n    </tr>\n    <tr>\n      <th>2</th>\n      <td>31.170928</td>\n      <td>-83.753068</td>\n    </tr>\n    <tr>\n      <th>3</th>\n      <td>31.779310</td>\n      <td>-84.442410</td>\n    </tr>\n    <tr>\n      <th>4</th>\n      <td>31.817130</td>\n      <td>-81.619800</td>\n    </tr>\n  </tbody>\n</table>\n</div>"
     },
     "metadata": {},
     "output_type": "execute_result",
     "execution_count": 15
    }
   ],
   "source": [
    "data_X = pd.get_dummies(X)\n",
    "data_X.head()"
   ]
  },
  {
   "cell_type": "markdown",
   "metadata": {
    "slideshow": {
     "slide_type": "slide"
    }
   },
   "source": [
    "## Scaling and Normalization"
   ]
  },
  {
   "cell_type": "markdown",
   "metadata": {
    "slideshow": {
     "slide_type": "subslide"
    }
   },
   "source": [
    "The final step that we need to perform is scaling and normalization. Many algorithms will perform better with a normalized or scaled dataset. You may not see a difference with the Sklearn LinearRegression model, but other models that use gradient descent need normalization to help the algorithms converge to a local optima."
   ]
  },
  {
   "cell_type": "markdown",
   "metadata": {
    "slideshow": {
     "slide_type": "subslide"
    }
   },
   "source": [
    "Sklearn provides a variety of scaling and normalization options. The two most common are minmax and StandardScaler. Use StandardScaler when you don't know anything about your data."
   ]
  },
  {
   "cell_type": "markdown",
   "metadata": {
    "slideshow": {
     "slide_type": "subslide"
    }
   },
   "source": [
    "The first step is to split your data into Training and Testing using `train_test_split`."
   ]
  },
  {
   "cell_type": "code",
   "execution_count": 16,
   "metadata": {
    "slideshow": {
     "slide_type": "fragment"
    },
    "pycharm": {
     "is_executing": false
    }
   },
   "outputs": [
    {
     "data": {
      "text/plain": "       Latitude  Longitude\n1541  32.195080 -84.137000\n1629  33.424273 -82.311032\n1190  33.740480 -84.313850\n585   31.702920 -83.636310\n261   33.047551 -83.935615\n2156  33.598292 -85.039859\n548   34.069078 -84.679831\n555   34.355643 -84.034964\n634   32.083100 -84.257800\n839   33.276817 -85.095222\n2022  33.752420 -84.324410\n1375  33.006290 -83.547440\n1376  32.371320 -84.191030\n300   32.833558 -83.658354\n1739  32.603430 -83.981900\n939   31.134955 -83.779487\n315   34.791120 -84.993150\n1567  31.584710 -84.166600\n453   31.213660 -82.335680\n175   32.057760 -81.096020\n1471  33.738380 -84.194587\n1395  33.227520 -84.305170\n1847  33.707110 -84.382490\n123   34.050540 -84.325280\n1113  33.673900 -84.458800\n394   31.713375 -83.640638\n1691  32.575970 -82.589563\n867   32.824200 -82.232780\n39    34.970333 -85.298889\n462   31.757132 -84.789838\n...         ...        ...\n1528  32.081970 -81.100020\n1267  34.024188 -85.266265\n1899  33.925930 -84.129710\n562   33.011880 -82.404320\n189   31.615050 -81.905380\n1806  31.545310 -84.154020\n975   34.435565 -83.102081\n2047  33.676550 -84.416700\n1082  32.529300 -82.932700\n474   33.809490 -84.607390\n747   33.587146 -83.872453\n21    34.698001 -85.289243\n459   33.832990 -84.078690\n1184  33.752850 -84.489740\n955   31.304828 -82.849610\n1215  33.781400 -84.603720\n1515  32.617240 -83.606180\n769   30.987240 -83.383200\n1685  32.983270 -84.576850\n130   31.507374 -82.837865\n2135  31.305351 -82.250697\n1482  30.868010 -83.279070\n330   33.053950 -85.033810\n1238  33.577080 -85.053250\n466   33.289310 -83.975200\n1638  34.862600 -84.320720\n1095  33.890509 -84.382405\n1130  33.699320 -84.465860\n1294  34.542680 -83.980780\n860   32.127510 -81.298420\n\n[1620 rows x 2 columns]",
      "text/html": "<div>\n<style scoped>\n    .dataframe tbody tr th:only-of-type {\n        vertical-align: middle;\n    }\n\n    .dataframe tbody tr th {\n        vertical-align: top;\n    }\n\n    .dataframe thead th {\n        text-align: right;\n    }\n</style>\n<table border=\"1\" class=\"dataframe\">\n  <thead>\n    <tr style=\"text-align: right;\">\n      <th></th>\n      <th>Latitude</th>\n      <th>Longitude</th>\n    </tr>\n  </thead>\n  <tbody>\n    <tr>\n      <th>1541</th>\n      <td>32.195080</td>\n      <td>-84.137000</td>\n    </tr>\n    <tr>\n      <th>1629</th>\n      <td>33.424273</td>\n      <td>-82.311032</td>\n    </tr>\n    <tr>\n      <th>1190</th>\n      <td>33.740480</td>\n      <td>-84.313850</td>\n    </tr>\n    <tr>\n      <th>585</th>\n      <td>31.702920</td>\n      <td>-83.636310</td>\n    </tr>\n    <tr>\n      <th>261</th>\n      <td>33.047551</td>\n      <td>-83.935615</td>\n    </tr>\n    <tr>\n      <th>2156</th>\n      <td>33.598292</td>\n      <td>-85.039859</td>\n    </tr>\n    <tr>\n      <th>548</th>\n      <td>34.069078</td>\n      <td>-84.679831</td>\n    </tr>\n    <tr>\n      <th>555</th>\n      <td>34.355643</td>\n      <td>-84.034964</td>\n    </tr>\n    <tr>\n      <th>634</th>\n      <td>32.083100</td>\n      <td>-84.257800</td>\n    </tr>\n    <tr>\n      <th>839</th>\n      <td>33.276817</td>\n      <td>-85.095222</td>\n    </tr>\n    <tr>\n      <th>2022</th>\n      <td>33.752420</td>\n      <td>-84.324410</td>\n    </tr>\n    <tr>\n      <th>1375</th>\n      <td>33.006290</td>\n      <td>-83.547440</td>\n    </tr>\n    <tr>\n      <th>1376</th>\n      <td>32.371320</td>\n      <td>-84.191030</td>\n    </tr>\n    <tr>\n      <th>300</th>\n      <td>32.833558</td>\n      <td>-83.658354</td>\n    </tr>\n    <tr>\n      <th>1739</th>\n      <td>32.603430</td>\n      <td>-83.981900</td>\n    </tr>\n    <tr>\n      <th>939</th>\n      <td>31.134955</td>\n      <td>-83.779487</td>\n    </tr>\n    <tr>\n      <th>315</th>\n      <td>34.791120</td>\n      <td>-84.993150</td>\n    </tr>\n    <tr>\n      <th>1567</th>\n      <td>31.584710</td>\n      <td>-84.166600</td>\n    </tr>\n    <tr>\n      <th>453</th>\n      <td>31.213660</td>\n      <td>-82.335680</td>\n    </tr>\n    <tr>\n      <th>175</th>\n      <td>32.057760</td>\n      <td>-81.096020</td>\n    </tr>\n    <tr>\n      <th>1471</th>\n      <td>33.738380</td>\n      <td>-84.194587</td>\n    </tr>\n    <tr>\n      <th>1395</th>\n      <td>33.227520</td>\n      <td>-84.305170</td>\n    </tr>\n    <tr>\n      <th>1847</th>\n      <td>33.707110</td>\n      <td>-84.382490</td>\n    </tr>\n    <tr>\n      <th>123</th>\n      <td>34.050540</td>\n      <td>-84.325280</td>\n    </tr>\n    <tr>\n      <th>1113</th>\n      <td>33.673900</td>\n      <td>-84.458800</td>\n    </tr>\n    <tr>\n      <th>394</th>\n      <td>31.713375</td>\n      <td>-83.640638</td>\n    </tr>\n    <tr>\n      <th>1691</th>\n      <td>32.575970</td>\n      <td>-82.589563</td>\n    </tr>\n    <tr>\n      <th>867</th>\n      <td>32.824200</td>\n      <td>-82.232780</td>\n    </tr>\n    <tr>\n      <th>39</th>\n      <td>34.970333</td>\n      <td>-85.298889</td>\n    </tr>\n    <tr>\n      <th>462</th>\n      <td>31.757132</td>\n      <td>-84.789838</td>\n    </tr>\n    <tr>\n      <th>...</th>\n      <td>...</td>\n      <td>...</td>\n    </tr>\n    <tr>\n      <th>1528</th>\n      <td>32.081970</td>\n      <td>-81.100020</td>\n    </tr>\n    <tr>\n      <th>1267</th>\n      <td>34.024188</td>\n      <td>-85.266265</td>\n    </tr>\n    <tr>\n      <th>1899</th>\n      <td>33.925930</td>\n      <td>-84.129710</td>\n    </tr>\n    <tr>\n      <th>562</th>\n      <td>33.011880</td>\n      <td>-82.404320</td>\n    </tr>\n    <tr>\n      <th>189</th>\n      <td>31.615050</td>\n      <td>-81.905380</td>\n    </tr>\n    <tr>\n      <th>1806</th>\n      <td>31.545310</td>\n      <td>-84.154020</td>\n    </tr>\n    <tr>\n      <th>975</th>\n      <td>34.435565</td>\n      <td>-83.102081</td>\n    </tr>\n    <tr>\n      <th>2047</th>\n      <td>33.676550</td>\n      <td>-84.416700</td>\n    </tr>\n    <tr>\n      <th>1082</th>\n      <td>32.529300</td>\n      <td>-82.932700</td>\n    </tr>\n    <tr>\n      <th>474</th>\n      <td>33.809490</td>\n      <td>-84.607390</td>\n    </tr>\n    <tr>\n      <th>747</th>\n      <td>33.587146</td>\n      <td>-83.872453</td>\n    </tr>\n    <tr>\n      <th>21</th>\n      <td>34.698001</td>\n      <td>-85.289243</td>\n    </tr>\n    <tr>\n      <th>459</th>\n      <td>33.832990</td>\n      <td>-84.078690</td>\n    </tr>\n    <tr>\n      <th>1184</th>\n      <td>33.752850</td>\n      <td>-84.489740</td>\n    </tr>\n    <tr>\n      <th>955</th>\n      <td>31.304828</td>\n      <td>-82.849610</td>\n    </tr>\n    <tr>\n      <th>1215</th>\n      <td>33.781400</td>\n      <td>-84.603720</td>\n    </tr>\n    <tr>\n      <th>1515</th>\n      <td>32.617240</td>\n      <td>-83.606180</td>\n    </tr>\n    <tr>\n      <th>769</th>\n      <td>30.987240</td>\n      <td>-83.383200</td>\n    </tr>\n    <tr>\n      <th>1685</th>\n      <td>32.983270</td>\n      <td>-84.576850</td>\n    </tr>\n    <tr>\n      <th>130</th>\n      <td>31.507374</td>\n      <td>-82.837865</td>\n    </tr>\n    <tr>\n      <th>2135</th>\n      <td>31.305351</td>\n      <td>-82.250697</td>\n    </tr>\n    <tr>\n      <th>1482</th>\n      <td>30.868010</td>\n      <td>-83.279070</td>\n    </tr>\n    <tr>\n      <th>330</th>\n      <td>33.053950</td>\n      <td>-85.033810</td>\n    </tr>\n    <tr>\n      <th>1238</th>\n      <td>33.577080</td>\n      <td>-85.053250</td>\n    </tr>\n    <tr>\n      <th>466</th>\n      <td>33.289310</td>\n      <td>-83.975200</td>\n    </tr>\n    <tr>\n      <th>1638</th>\n      <td>34.862600</td>\n      <td>-84.320720</td>\n    </tr>\n    <tr>\n      <th>1095</th>\n      <td>33.890509</td>\n      <td>-84.382405</td>\n    </tr>\n    <tr>\n      <th>1130</th>\n      <td>33.699320</td>\n      <td>-84.465860</td>\n    </tr>\n    <tr>\n      <th>1294</th>\n      <td>34.542680</td>\n      <td>-83.980780</td>\n    </tr>\n    <tr>\n      <th>860</th>\n      <td>32.127510</td>\n      <td>-81.298420</td>\n    </tr>\n  </tbody>\n</table>\n<p>1620 rows × 2 columns</p>\n</div>"
     },
     "metadata": {},
     "output_type": "execute_result",
     "execution_count": 16
    }
   ],
   "source": [
    "from sklearn.model_selection import train_test_split\n",
    "\n",
    "X_train, X_test, y_train, y_test = train_test_split(X, y, random_state=42)\n",
    "\n",
    "X_train"
   ]
  },
  {
   "cell_type": "markdown",
   "metadata": {
    "slideshow": {
     "slide_type": "subslide"
    }
   },
   "source": [
    "### StandardScaler"
   ]
  },
  {
   "cell_type": "markdown",
   "metadata": {
    "slideshow": {
     "slide_type": "subslide"
    }
   },
   "source": [
    "Now, we fit our StandardScaler model to our training data. We can apply this StandardScaler model to any future data. Note that we use this fit/transform approach so that we isolate our testing data from the training data that we use to fit our model. Otherwise, we might bias our model to the testing data. "
   ]
  },
  {
   "cell_type": "code",
   "execution_count": 17,
   "metadata": {
    "slideshow": {
     "slide_type": "fragment"
    },
    "pycharm": {
     "is_executing": false
    }
   },
   "outputs": [],
   "source": [
    "from sklearn.preprocessing import StandardScaler\n",
    "X_scaler = StandardScaler().fit(X_train)\n",
    "y_scaler = StandardScaler().fit(y_train)"
   ]
  },
  {
   "cell_type": "code",
   "execution_count": 18,
   "metadata": {
    "slideshow": {
     "slide_type": "fragment"
    },
    "pycharm": {
     "is_executing": false
    }
   },
   "outputs": [],
   "source": [
    "X_train_scaled = X_scaler.transform(X_train)\n",
    "X_test_scaled = X_scaler.transform(X_test)\n",
    "y_train_scaled = y_scaler.transform(y_train)\n",
    "y_test_scaled = y_scaler.transform(y_test)"
   ]
  },
  {
   "cell_type": "code",
   "execution_count": 19,
   "metadata": {
    "scrolled": true,
    "slideshow": {
     "slide_type": "fragment"
    },
    "pycharm": {
     "is_executing": false
    }
   },
   "outputs": [
    {
     "data": {
      "text/plain": "array([ 0.01291445, -0.17515667, -0.76379059,  1.09419402, -1.05330814,\n       -1.0052199 , -0.78585848, -1.05330814,  0.45831882, -0.1028361 ,\n       -0.64164082, -1.05330814, -0.12341142, -0.67481168,  0.32158259,\n        1.09748773, -0.22517409, -1.05330814,  0.52814558,  1.82351662,\n       -0.22517409,  1.49790937, -0.14259595, -0.12786834,  0.92903774,\n        0.81281666, -0.78999915,  2.21904473, -0.45573414,  1.07960757,\n        1.07584332, -0.46514475, -1.0374042 ,  0.46085968,  1.44405129,\n       -1.05330814, -0.80863217, -0.67481168, -0.1028361 ,  2.62435989,\n        0.53562701, -0.45573414, -0.82096007, -1.05189655, -0.65768592,\n       -0.45573414, -1.05330814, -1.05330814, -0.45573414, -0.91403105,\n       -1.05330814, -0.40693565, -1.05330814,  1.63059903, -0.1028361 ,\n       -0.17515667,  2.55707399,  1.01043955, -0.81004376,  0.52767505,\n       -1.05330814,  0.62460437,  0.59213775, -0.22517409,  0.52767505,\n        0.02837433, -0.94979138,  0.52767505, -1.05330814,  0.04773372,\n       -1.05330814, -1.05330814, -0.98799848,  1.27346622, -1.05330814,\n        0.22888805, -1.05330814,  1.79999008, -0.41795052, -1.04229772,\n        0.51073594, -0.52631374, -0.72393664, -0.80863217, -0.5847066 ,\n       -0.8098085 , -1.00098512,  0.01037358, -1.05330814, -0.1028361 ,\n       -0.79451625, -0.6113857 ,  0.0427461 ,  0.36345983, -1.05330814,\n       -0.67556608, -1.00474937, -1.05330814, -0.1433488 ,  0.52767505,\n       -1.05330814,  0.59072616,  1.71388296,  2.26488621,  0.36628301,\n       -0.45573414, -0.1028361 ,  0.9130397 ,  0.46744711, -1.05330814,\n       -1.05330814,  0.78044414,  0.61190004, -0.79762175, -1.05293171,\n        1.54260979,  1.79904902, -1.05330814,  0.95980311, -1.00531401,\n       -0.92016853,  0.60295996, -0.1028361 ,  0.52767505, -0.16113486,\n       -0.77098971, -0.23514934,  1.04149458,  0.03612485, -0.45573414,\n        0.52767505, -0.91572496, -1.04577965, -0.43798923, -0.94038077,\n       -0.45573414,  1.00902796,  0.41357135,  1.32334247, -0.45573414,\n        1.1628915 ,  0.50452493, -0.45573414,  2.44602875, -0.01296474,\n       -0.94080424, -0.45573414,  1.05824547,  0.17995285, -0.79451625,\n        0.40627812,  0.96997391,  0.58987921,  1.0739612 , -1.05330814,\n        0.49743316, -1.039004  , -1.00597275,  0.28817491,  1.24241119,\n       -1.01867708, -1.05330814,  0.55402477,  0.59025563, -0.80863217,\n        0.01037358,  0.70421817,  0.65330674, -1.05330814, -1.05330814,\n        0.31364386,  1.20947404, -0.77126758,  0.52767505,  0.2006562 ,\n       -0.1028361 ,  1.80798911,  0.17524754, -0.02091671,  1.08101916,\n        0.30850184, -0.87921178, -0.94979138, -0.94979138, -0.81107893,\n        0.14315735, -0.94979138,  0.52767505, -0.45129791,  1.07913704,\n       -0.45573414, -0.35071168, -0.60920057,  0.37898734,  0.77564473,\n       -1.05330814, -1.05330814, -0.64164082, -1.03778062,  0.95021162,\n        0.77987951, -1.05330814, -0.42750229, -0.11234083,  0.52767505,\n       -1.05330814, -1.05330814,  0.63307392,  2.40885682,  1.8691581 ,\n        1.95432416, -0.45573414, -0.1028361 , -1.05330814,  0.69988929,\n       -0.1028361 ,  1.09137084, -0.1028361 ,  0.40533706, -1.04474448,\n        0.92724972,  0.59354934,  1.5750764 , -0.11234083, -0.96433078,\n       -0.80228   , -0.87921178, -0.80228   , -1.05330814, -1.05330814,\n        1.34686901, -1.03674546, -0.46514475,  0.84528327, -0.1028361 ,\n        2.79751519, -0.16857659,  0.52767505,  0.47290527, -0.45573414,\n        0.33428692,  0.59354934, -0.45573414, -0.1028361 ,  0.94974109,\n        1.84374944, -0.66568494, -1.05330814, -0.81409032,  0.51120647,\n        0.52767505,  0.61942853, -0.7500393 , -1.01434819, -0.67133131,\n       -0.98743384,  0.49454968, -0.22795022,  0.72953272, -0.98743384,\n        1.52849386, -0.16823987, -0.66568494,  0.45239013, -0.45573414,\n        0.7812911 , -1.05330814,  0.76482252,  1.29087586, -0.8098085 ,\n        0.87680883, -0.24173677, -1.05330814,  1.16853787, -1.0083254 ,\n       -0.94503902, -0.9746354 , -1.0512378 , -1.03260479,  0.96997391,\n        1.52437967, -0.45573414,  0.21938332,  1.55107934, -1.01522136,\n       -0.22517409,  0.9360957 , -0.99072755, -1.05330814, -0.20588233,\n       -0.87939999, -0.23345543, -0.77126758,  0.52767505,  0.58884404,\n        1.07725491,  0.59825465, -1.01760416, -0.42750229, -0.71786679,\n        0.55026052, -0.35005294,  1.92091648, -0.88325834, -0.1028361 ,\n       -1.05330814,  0.52767505, -0.45573414, -0.38919075,  0.37616416,\n        0.61666564, -0.31589241,  1.37180714, -0.62112568, -0.67133131,\n        0.04773372,  0.34421512, -0.91911278,  0.98625427, -1.05330814,\n       -0.24173677, -0.85422659, -0.94668588, -0.74656917, -0.71603173,\n        1.45744373,  0.34228595, -0.45573414, -0.33424311, -0.45573414,\n        1.16571469, -0.26469867, -0.17018963, -0.64149966, -0.42750229,\n       -0.87939999, -0.86937768,  0.52767505, -0.98743384, -1.05330814,\n        0.75352979,  1.6776521 , -0.87375362, -0.87921178,  0.82222727,\n        1.01185115, -0.46514475, -1.01980635, -0.9194892 , -0.37150914,\n       -0.42750229, -1.05330814, -0.45573414, -1.0052199 ,  0.85810818,\n       -1.05330814, -0.94038077,  0.0105618 , -0.42750229, -0.42750229,\n        0.40326673,  1.14454081, -0.23742535,  1.86445279, -0.45592235,\n       -0.80863217, -0.23514934, -0.45573414, -1.04154487, -0.17341571,\n       -0.64164082,  0.67118691, -0.87921178, -0.91963036,  2.72175974,\n        1.44285727, -0.66747296, -0.80425623,  1.39345155, -0.87803545,\n        0.62789809, -1.03312237,  1.08196022,  0.52767505,  0.67024585,\n        1.3191077 ,  1.94773673, -0.45573414,  0.93995405,  1.33657762,\n       -0.24173677,  0.52767505,  0.54414362,  0.75776456, -1.01434819,\n       -0.22517409, -0.94979138, -1.05330814,  0.51450019, -0.1028361 ,\n       -0.45573414,  0.67777434, -0.36445118,  0.93703676, -0.22517409,\n        0.94174207,  0.37268223, -0.45573414, -1.05330814,  0.52767505,\n       -0.063735  , -0.64987511,  0.57613971, -1.05330814,  0.76717518,\n       -0.87939999,  0.26148559, -0.94041458, -1.05330814, -1.05330814,\n       -1.04276825,  0.2987148 , -0.91798351,  0.03568814, -0.60988   ,\n       -0.42750229, -0.17840334, -0.48867129, -1.05330814, -0.97388255,\n        0.50461904, -0.45573414,  0.51308859, -1.05330814,  0.52767505,\n       -1.05330814,  0.76152881,  2.46626157, -0.96546005,  0.92499118,\n       -1.04276825,  0.60107784, -0.99373895, -1.05330814, -0.95241456,\n        0.41554758, -1.01510104,  0.37851681,  0.17524754, -1.05330814,\n       -1.05330814, -1.04766177, -0.22517409,  1.3727482 , -0.58056593,\n       -0.83950632,  0.49520843, -0.45573414, -0.34751207,  0.64821033,\n        0.54931946, -1.05330814,  0.07361291, -1.05330814, -0.33349026,\n        0.96686841,  1.61554205, -0.98084641,  1.22029625, -0.91963036,\n        1.53461076, -0.43798923,  2.53637064, -0.37569686,  0.60154837,\n        0.04773372, -0.94979138,  0.2878926 , -1.04596786,  0.52767505,\n        0.45286066, -0.60014001,  1.31110868,  1.55983121,  0.51534714,\n        0.99914682, -0.55294578,  0.5653175 , -0.0717941 , -0.87963525,\n        2.60130388, -0.11872091, -0.94734043, -0.22517409, -0.23345543,\n        1.72941048, -1.03778062, -0.73565286,  0.7398844 , -0.64092179,\n       -1.05330814, -0.1028361 , -0.27451952,  0.52767505, -0.092108  ,\n        1.6068667 ,  0.156144  , -0.9662129 , -0.72393664,  0.88716051,\n        1.76140656, -1.05330814,  0.75089481,  2.20605809,  0.41554758,\n       -0.98743384,  0.7812911 ,  2.26346283,  0.31057218, -1.00696086,\n       -0.1028361 , -1.05330814, -0.45573414,  0.04713527,  0.52108762,\n       -1.05330814,  1.25982083,  1.02624938, -0.94041458, -0.59665808,\n        0.13299389, -1.01760416, -0.94979138, -0.80228   , -0.51537229,\n        0.31170145,  0.52767505,  0.88113771, -0.68831747,  2.0714863 ,\n       -0.07563943])"
     },
     "metadata": {},
     "output_type": "execute_result",
     "execution_count": 19
    }
   ],
   "source": [
    "# Plot the results \n",
    "\n",
    "model = RandomForestRegressor(n_estimators=100, random_state = 42)\n",
    "model.fit(X_train_scaled, y_train_scaled)\n",
    "#plt.scatter(model.predict(X_train_scaled), model.predict(X_train_scaled) - y_train_scaled, c=\"blue\", label=\"Training Data\")\n",
    "#plt.scatter(model.predict(X_test_scaled), model.predict(X_test_scaled) - y_test_scaled, c=\"orange\", label=\"Testing Data\")\n",
    "#plt.legend()\n",
    "#plt.hlines(y=0, xmin=y_test_scaled.min(), xmax=y_test_scaled.max())\n",
    "#plt.title(\"Residual Plot\")\n",
    "#plt.show\n",
    "\n",
    "predictions = model.predict(X_test_scaled)\n",
    "predictions"
   ]
  },
  {
   "cell_type": "markdown",
   "metadata": {
    "slideshow": {
     "slide_type": "subslide"
    }
   },
   "source": [
    "Quantify your model using the scaled data"
   ]
  },
  {
   "cell_type": "code",
   "execution_count": 20,
   "metadata": {
    "pycharm": {
     "is_executing": false
    }
   },
   "outputs": [
    {
     "name": "stdout",
     "text": [
      "Mean Absolute Error: 1.02 degrees.\n"
     ],
     "output_type": "stream"
    }
   ],
   "source": [
    "\n",
    "# Calculate the absolute errors\n",
    "errors = abs(predictions - y_test_scaled)\n",
    "\n",
    "# Print out the mean absolute error (mae)\n",
    "print('Mean Absolute Error:', round(np.mean(errors), 2), 'degrees.')"
   ]
  },
  {
   "cell_type": "code",
   "execution_count": 20,
   "metadata": {
    "pycharm": {
     "is_executing": false
    }
   },
   "outputs": [],
   "source": []
  },
  {
   "cell_type": "code",
   "execution_count": 21,
   "metadata": {
    "pycharm": {
     "is_executing": false
    }
   },
   "outputs": [
    {
     "data": {
      "text/plain": "array([ 886.6       ,  846.63      ,  721.53      , 1116.4       ,\n        660.        ,  670.22      ,  716.84      ,  660.        ,\n        981.26      ,  862.        ,  747.49      ,  660.        ,\n        857.62721006,  740.44033069,  952.2       , 1117.1       ,\n        836.        ,  660.        ,  996.1       , 1271.4       ,\n        836.        , 1202.2       ,  853.55      ,  856.68      ,\n       1081.3       , 1056.6       ,  715.96      , 1355.46      ,\n        787.        , 1113.3       , 1112.5       ,  785.        ,\n        663.38      ,  981.8       , 1190.75375873,  660.        ,\n        712.        ,  740.44033069,  862.        , 1441.6       ,\n        997.69      ,  787.        ,  709.38      ,  660.3       ,\n        744.08      ,  787.        ,  660.        ,  660.        ,\n        787.        ,  689.6       ,  660.        ,  797.37094551,\n        660.        , 1230.4       ,  862.        ,  846.63      ,\n       1427.3       , 1098.6       ,  711.7       ,  996.        ,\n        660.        , 1016.6       , 1009.7       ,  836.        ,\n        996.        ,  889.88562646,  682.        ,  996.        ,\n        660.        ,  894.        ,  660.        ,  660.        ,\n        673.88      , 1154.5       ,  660.        ,  932.5       ,\n        660.        , 1266.4       ,  795.03      ,  662.34      ,\n        992.4       ,  772.        ,  730.        ,  712.        ,\n        759.59      ,  711.75      ,  671.12      ,  886.06      ,\n        660.        ,  862.        ,  715.        ,  753.92      ,\n        892.94      ,  961.1       ,  660.        ,  740.28      ,\n        670.32      ,  660.        ,  853.39      ,  996.        ,\n        660.        , 1009.4       , 1248.1       , 1365.20250582,\n        961.7       ,  787.        ,  862.        , 1077.9       ,\n        983.2       ,  660.        ,  660.        , 1049.72      ,\n       1013.9       ,  714.34      ,  660.08      , 1211.7       ,\n       1266.2       ,  660.        , 1087.83843968,  670.2       ,\n        688.29562646, 1012.        ,  862.        ,  996.        ,\n        849.61      ,  720.        ,  833.88      , 1105.2       ,\n        891.53281323,  787.        ,  996.        ,  689.24      ,\n        661.6       ,  790.77125291,  684.        ,  787.        ,\n       1098.3       ,  971.75      , 1165.1       ,  787.        ,\n       1131.        ,  991.08      ,  787.        , 1403.7       ,\n        881.1       ,  683.91      ,  787.        , 1108.76      ,\n        922.1       ,  715.        ,  970.2       , 1090.        ,\n       1009.22      , 1112.1       ,  660.        ,  989.57281323,\n        663.04      ,  670.06      ,  945.1       , 1147.9       ,\n        667.36      ,  660.        , 1001.6       , 1009.3       ,\n        712.        ,  886.06      , 1033.52      , 1022.7       ,\n        660.        ,  660.        ,  950.51281323, 1140.9       ,\n        719.94094551,  996.        ,  926.5       ,  862.        ,\n       1268.1       ,  921.1       ,  879.41      , 1113.6       ,\n        949.42      ,  697.        ,  682.        ,  682.        ,\n        711.48      ,  914.28      ,  682.        ,  996.        ,\n        787.94281323, 1113.2       ,  787.        ,  809.32      ,\n        754.38439683,  964.4       , 1048.7       ,  660.        ,\n        660.        ,  747.49      ,  663.3       , 1085.8       ,\n       1049.6       ,  660.        ,  793.        ,  859.98      ,\n        996.        ,  660.        ,  660.        , 1018.4       ,\n       1395.8       , 1281.1       , 1299.2       ,  787.        ,\n        862.        ,  660.        , 1032.6       ,  862.        ,\n       1115.8       ,  862.        ,  970.        ,  661.82      ,\n       1080.92      , 1010.        , 1218.6       ,  859.98      ,\n        678.91      ,  713.35      ,  697.        ,  713.35      ,\n        660.        ,  660.        , 1170.1       ,  663.52      ,\n        785.        , 1063.5       ,  862.        , 1478.4       ,\n        848.02843968,  996.        ,  984.36      ,  787.        ,\n        954.9       , 1010.        ,  787.        ,  862.        ,\n       1085.7       , 1275.7       ,  742.38      ,  660.        ,\n        710.84      ,  992.5       ,  996.        , 1015.5       ,\n        724.45250582,  668.28      ,  741.18      ,  674.        ,\n        988.96      ,  835.41      , 1038.9       ,  674.        ,\n       1208.7       ,  848.1       ,  742.38      ,  980.        ,\n        787.        , 1049.9       ,  660.        , 1046.4       ,\n       1158.2       ,  711.75      , 1070.2       ,  832.48      ,\n        660.        , 1132.2       ,  669.56      ,  683.01      ,\n        676.72      ,  660.44      ,  664.4       , 1090.        ,\n       1207.82562646,  787.        ,  930.48      , 1213.5       ,\n        668.09442866,  836.        , 1082.8       ,  673.3       ,\n        660.        ,  840.1       ,  696.96      ,  834.24      ,\n        719.94094551,  996.        , 1009.        , 1112.8       ,\n       1011.        ,  667.58802205,  793.        ,  731.29      ,\n       1000.8       ,  809.46      , 1292.1       ,  696.14      ,\n        862.        ,  660.        ,  996.        ,  787.        ,\n        801.14219842,  963.8       , 1014.91281323,  816.72      ,\n       1175.4       ,  751.85      ,  741.18      ,  894.        ,\n        957.01      ,  688.52      , 1093.46      ,  660.        ,\n        832.48      ,  702.31      ,  682.66      ,  725.19      ,\n        731.68      , 1193.6       ,  956.6       ,  787.        ,\n        812.82      ,  787.        , 1131.6       ,  827.6       ,\n        847.68562646,  747.52      ,  793.        ,  696.96      ,\n        699.09      ,  996.        ,  674.        ,  660.        ,\n       1044.        , 1240.4       ,  698.16      ,  697.        ,\n       1058.6       , 1098.9       ,  785.        ,  667.12      ,\n        688.44      ,  804.9       ,  793.        ,  660.        ,\n        787.        ,  670.22      , 1066.22562646,  660.        ,\n        684.        ,  886.1       ,  793.        ,  793.        ,\n        969.56      , 1127.1       ,  833.39628784, 1280.1       ,\n        786.96      ,  712.        ,  833.88      ,  787.        ,\n        662.5       ,  847.        ,  747.49      , 1026.5       ,\n        697.        ,  688.41      , 1462.3       , 1190.5       ,\n        742.        ,  712.93      , 1180.        ,  697.25      ,\n       1017.3       ,  664.29      , 1113.8       ,  996.        ,\n       1026.3       , 1164.2       , 1297.8       ,  787.        ,\n       1083.62      , 1167.91281323,  832.48      ,  996.        ,\n        999.5       , 1044.9       ,  668.28      ,  836.        ,\n        682.        ,  660.        ,  993.2       ,  862.        ,\n        787.        , 1027.9       ,  806.4       , 1083.        ,\n        836.        , 1084.        ,  963.06      ,  787.        ,\n        660.        ,  996.        ,  870.31      ,  745.74      ,\n       1006.3       ,  660.        , 1046.9       ,  696.96      ,\n        939.42782487,  683.99281323,  660.        ,  660.        ,\n        662.24      ,  947.34      ,  688.76      ,  891.44      ,\n        754.24      ,  793.        ,  845.94      ,  780.        ,\n        660.        ,  676.88      ,  991.1       ,  787.        ,\n        992.9       ,  660.        ,  996.        ,  660.        ,\n       1045.7       , 1408.        ,  678.67      , 1080.44      ,\n        662.24      , 1011.6       ,  672.66      ,  660.        ,\n        681.44250582,  972.17      ,  668.12      ,  964.3       ,\n        921.1       ,  660.        ,  660.        ,  661.2       ,\n        836.        , 1175.6       ,  760.47      ,  705.43843968,\n        989.1       ,  787.        ,  810.        , 1021.61687937,\n       1000.6       ,  660.        ,  899.5       ,  660.        ,\n        812.98      , 1089.34      , 1227.2       ,  675.4       ,\n       1143.2       ,  688.41      , 1210.        ,  790.77125291,\n       1422.9       ,  804.01      , 1011.7       ,  894.        ,\n        682.        ,  945.04      ,  661.56      ,  996.        ,\n        980.1       ,  756.31      , 1162.5       , 1215.36      ,\n        993.38      , 1096.2       ,  766.34      , 1004.        ,\n        868.59723335,  696.91      , 1436.7       ,  858.62406614,\n        682.52089039,  836.        ,  834.24      , 1251.4       ,\n        663.3       ,  727.51      , 1041.1       ,  747.64281323,\n        660.        ,  862.        ,  825.51281323,  996.        ,\n        864.28      , 1225.35626456,  917.04      ,  678.51      ,\n        730.        , 1072.4       , 1258.2       ,  660.        ,\n       1043.44      , 1352.7       ,  972.17      ,  674.        ,\n       1049.9       , 1364.9       ,  949.86      ,  669.85      ,\n        862.        ,  660.        ,  787.        ,  893.87281323,\n        994.6       ,  660.        , 1151.6       , 1101.96      ,\n        683.99281323,  757.05      ,  912.12      ,  667.58802205,\n        682.        ,  713.35      ,  774.32534234,  950.1       ,\n        996.        , 1071.12      ,  737.57      , 1324.1       ,\n        867.78      ])"
     },
     "metadata": {},
     "output_type": "execute_result",
     "execution_count": 21
    }
   ],
   "source": [
    "\n",
    "#inverse_transform(self, X, copy=None)\n",
    "y_new_inverse = y_scaler.inverse_transform(predictions)\n",
    "y_new_inverse"
   ]
  },
  {
   "cell_type": "code",
   "execution_count": 22,
   "metadata": {
    "pycharm": {
     "is_executing": false
    }
   },
   "outputs": [
    {
     "name": "stdout",
     "text": [
      "MSE: 2168.671607047839, RMSE: 46.56899834705315\n"
     ],
     "output_type": "stream"
    }
   ],
   "source": [
    "from sklearn.metrics import mean_squared_error\n",
    "\n",
    "predictions = y_new_inverse\n",
    "MSE = mean_squared_error(y_test, predictions)\n",
    "RMSE=np.sqrt(MSE)\n",
    "\n",
    "print(f\"MSE: {MSE}, RMSE: {RMSE}\")"
   ]
  },
  {
   "cell_type": "code",
   "execution_count": 22,
   "metadata": {
    "pycharm": {
     "is_executing": false
    }
   },
   "outputs": [],
   "source": []
  },
  {
   "cell_type": "code",
   "execution_count": 22,
   "metadata": {
    "pycharm": {
     "is_executing": false
    }
   },
   "outputs": [],
   "source": []
  }
 ],
 "metadata": {
  "anaconda-cloud": {},
  "celltoolbar": "Slideshow",
  "kernelspec": {
   "display_name": "Python 3",
   "language": "python",
   "name": "python3"
  },
  "language_info": {
   "codemirror_mode": {
    "name": "ipython",
    "version": 3
   },
   "file_extension": ".py",
   "mimetype": "text/x-python",
   "name": "python",
   "nbconvert_exporter": "python",
   "pygments_lexer": "ipython3",
   "version": "3.7.3"
  },
  "varInspector": {
   "cols": {
    "lenName": 16,
    "lenType": 16,
    "lenVar": 40
   },
   "kernels_config": {
    "python": {
     "delete_cmd_postfix": "",
     "delete_cmd_prefix": "del ",
     "library": "var_list.py",
     "varRefreshCmd": "print(var_dic_list())"
    },
    "r": {
     "delete_cmd_postfix": ") ",
     "delete_cmd_prefix": "rm(",
     "library": "var_list.r",
     "varRefreshCmd": "cat(var_dic_list()) "
    }
   },
   "types_to_exclude": [
    "module",
    "function",
    "builtin_function_or_method",
    "instance",
    "_Feature"
   ],
   "window_display": false
  },
  "pycharm": {
   "stem_cell": {
    "cell_type": "raw",
    "source": [],
    "metadata": {
     "collapsed": false
    }
   }
  }
 },
 "nbformat": 4,
 "nbformat_minor": 2
}